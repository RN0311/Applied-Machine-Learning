{
 "cells": [
  {
   "cell_type": "markdown",
   "metadata": {},
   "source": [
    "#### Name : Rashmi Nagpal\n",
    "#### Course Name : Applied Machine Learning"
   ]
  },
  {
   "cell_type": "markdown",
   "metadata": {},
   "source": [
    "##### Importing Libraries"
   ]
  },
  {
   "cell_type": "code",
   "execution_count": 90,
   "metadata": {},
   "outputs": [],
   "source": [
    "import os\n",
    "import numpy as np\n",
    "import pandas as pd\n",
    "import matplotlib.pyplot as plt\n",
    "import seaborn as sns\n",
    "from sklearn.ensemble import RandomForestRegressor\n",
    "from sklearn.tree import DecisionTreeRegressor\n",
    "from sklearn.linear_model import  ElasticNet\n",
    "from sklearn.linear_model import  Ridge\n",
    "from sklearn.model_selection import cross_val_score\n",
    "import  statsmodels.formula.api as sm\n",
    "from sklearn.linear_model import LinearRegression\n",
    "from sklearn.metrics import mean_squared_error\n",
    "from sklearn.preprocessing import PolynomialFeatures\n",
    "from sklearn.linear_model import  Lasso\n",
    "from sklearn.model_selection import GridSearchCV\n",
    "import matplotlib\n",
    "from sklearn.decomposition import  PCA\n",
    "from sklearn.cluster import  KMeans\n",
    "import tarfile\n",
    "from six.moves import urllib\n",
    "%matplotlib inline"
   ]
  },
  {
   "cell_type": "code",
   "execution_count": 2,
   "metadata": {},
   "outputs": [],
   "source": [
    "source_path = \"https://raw.githubusercontent.com/ageron/handson-ml/master/datasets/housing/housing.tgz\""
   ]
  },
  {
   "cell_type": "code",
   "execution_count": 3,
   "metadata": {},
   "outputs": [],
   "source": [
    "local_path = os.path.join(\"datasets\", \"housing\")\n",
    "os.makedirs(local_path, exist_ok=True)\n"
   ]
  },
  {
   "cell_type": "code",
   "execution_count": 4,
   "metadata": {},
   "outputs": [],
   "source": [
    "tgz_path = os.path.join(local_path, \"housing.tgz\")\n",
    "urllib.request.urlretrieve(source_path, tgz_path)\n",
    "housing_tgz = tarfile.open(tgz_path)\n",
    "housing_tgz.extractall(path=local_path)\n",
    "housing_tgz.close()"
   ]
  },
  {
   "cell_type": "code",
   "execution_count": 5,
   "metadata": {},
   "outputs": [],
   "source": [
    "# Read the data into a dataframe\n",
    "import pandas as pd\n",
    "csv_path = os.path.join(local_path, \"housing.csv\")\n",
    "data = pd.read_csv(csv_path)"
   ]
  },
  {
   "cell_type": "code",
   "execution_count": 6,
   "metadata": {},
   "outputs": [
    {
     "data": {
      "text/html": [
       "<div>\n",
       "<style scoped>\n",
       "    .dataframe tbody tr th:only-of-type {\n",
       "        vertical-align: middle;\n",
       "    }\n",
       "\n",
       "    .dataframe tbody tr th {\n",
       "        vertical-align: top;\n",
       "    }\n",
       "\n",
       "    .dataframe thead th {\n",
       "        text-align: right;\n",
       "    }\n",
       "</style>\n",
       "<table border=\"1\" class=\"dataframe\">\n",
       "  <thead>\n",
       "    <tr style=\"text-align: right;\">\n",
       "      <th></th>\n",
       "      <th>longitude</th>\n",
       "      <th>latitude</th>\n",
       "      <th>housing_median_age</th>\n",
       "      <th>total_rooms</th>\n",
       "      <th>total_bedrooms</th>\n",
       "      <th>population</th>\n",
       "      <th>households</th>\n",
       "      <th>median_income</th>\n",
       "      <th>median_house_value</th>\n",
       "      <th>ocean_proximity</th>\n",
       "    </tr>\n",
       "  </thead>\n",
       "  <tbody>\n",
       "    <tr>\n",
       "      <th>0</th>\n",
       "      <td>-122.23</td>\n",
       "      <td>37.88</td>\n",
       "      <td>41.0</td>\n",
       "      <td>880.0</td>\n",
       "      <td>129.0</td>\n",
       "      <td>322.0</td>\n",
       "      <td>126.0</td>\n",
       "      <td>8.3252</td>\n",
       "      <td>452600.0</td>\n",
       "      <td>NEAR BAY</td>\n",
       "    </tr>\n",
       "    <tr>\n",
       "      <th>1</th>\n",
       "      <td>-122.22</td>\n",
       "      <td>37.86</td>\n",
       "      <td>21.0</td>\n",
       "      <td>7099.0</td>\n",
       "      <td>1106.0</td>\n",
       "      <td>2401.0</td>\n",
       "      <td>1138.0</td>\n",
       "      <td>8.3014</td>\n",
       "      <td>358500.0</td>\n",
       "      <td>NEAR BAY</td>\n",
       "    </tr>\n",
       "    <tr>\n",
       "      <th>2</th>\n",
       "      <td>-122.24</td>\n",
       "      <td>37.85</td>\n",
       "      <td>52.0</td>\n",
       "      <td>1467.0</td>\n",
       "      <td>190.0</td>\n",
       "      <td>496.0</td>\n",
       "      <td>177.0</td>\n",
       "      <td>7.2574</td>\n",
       "      <td>352100.0</td>\n",
       "      <td>NEAR BAY</td>\n",
       "    </tr>\n",
       "    <tr>\n",
       "      <th>3</th>\n",
       "      <td>-122.25</td>\n",
       "      <td>37.85</td>\n",
       "      <td>52.0</td>\n",
       "      <td>1274.0</td>\n",
       "      <td>235.0</td>\n",
       "      <td>558.0</td>\n",
       "      <td>219.0</td>\n",
       "      <td>5.6431</td>\n",
       "      <td>341300.0</td>\n",
       "      <td>NEAR BAY</td>\n",
       "    </tr>\n",
       "    <tr>\n",
       "      <th>4</th>\n",
       "      <td>-122.25</td>\n",
       "      <td>37.85</td>\n",
       "      <td>52.0</td>\n",
       "      <td>1627.0</td>\n",
       "      <td>280.0</td>\n",
       "      <td>565.0</td>\n",
       "      <td>259.0</td>\n",
       "      <td>3.8462</td>\n",
       "      <td>342200.0</td>\n",
       "      <td>NEAR BAY</td>\n",
       "    </tr>\n",
       "  </tbody>\n",
       "</table>\n",
       "</div>"
      ],
      "text/plain": [
       "   longitude  latitude  housing_median_age  total_rooms  total_bedrooms  \\\n",
       "0    -122.23     37.88                41.0        880.0           129.0   \n",
       "1    -122.22     37.86                21.0       7099.0          1106.0   \n",
       "2    -122.24     37.85                52.0       1467.0           190.0   \n",
       "3    -122.25     37.85                52.0       1274.0           235.0   \n",
       "4    -122.25     37.85                52.0       1627.0           280.0   \n",
       "\n",
       "   population  households  median_income  median_house_value ocean_proximity  \n",
       "0       322.0       126.0         8.3252            452600.0        NEAR BAY  \n",
       "1      2401.0      1138.0         8.3014            358500.0        NEAR BAY  \n",
       "2       496.0       177.0         7.2574            352100.0        NEAR BAY  \n",
       "3       558.0       219.0         5.6431            341300.0        NEAR BAY  \n",
       "4       565.0       259.0         3.8462            342200.0        NEAR BAY  "
      ]
     },
     "execution_count": 6,
     "metadata": {},
     "output_type": "execute_result"
    }
   ],
   "source": [
    "data.head()"
   ]
  },
  {
   "cell_type": "markdown",
   "metadata": {},
   "source": [
    "##### Missing values"
   ]
  },
  {
   "cell_type": "code",
   "execution_count": 7,
   "metadata": {},
   "outputs": [
    {
     "data": {
      "text/plain": [
       "longitude               0\n",
       "latitude                0\n",
       "housing_median_age      0\n",
       "total_rooms             0\n",
       "total_bedrooms        207\n",
       "population              0\n",
       "households              0\n",
       "median_income           0\n",
       "median_house_value      0\n",
       "ocean_proximity         0\n",
       "dtype: int64"
      ]
     },
     "execution_count": 7,
     "metadata": {},
     "output_type": "execute_result"
    }
   ],
   "source": [
    "data.isnull().sum()"
   ]
  },
  {
   "cell_type": "code",
   "execution_count": 8,
   "metadata": {},
   "outputs": [
    {
     "data": {
      "text/plain": [
       "count    20433.000000\n",
       "mean       537.870553\n",
       "std        421.385070\n",
       "min          1.000000\n",
       "25%        296.000000\n",
       "50%        435.000000\n",
       "75%        647.000000\n",
       "max       6445.000000\n",
       "Name: total_bedrooms, dtype: float64"
      ]
     },
     "execution_count": 8,
     "metadata": {},
     "output_type": "execute_result"
    }
   ],
   "source": [
    "#statistics of missing values column\n",
    "data['total_bedrooms'].describe()"
   ]
  },
  {
   "cell_type": "markdown",
   "metadata": {},
   "source": [
    "##### Select 200 rows from dataset"
   ]
  },
  {
   "cell_type": "code",
   "execution_count": 132,
   "metadata": {},
   "outputs": [],
   "source": [
    "random_subset = data.sample(n=200)"
   ]
  },
  {
   "cell_type": "code",
   "execution_count": 133,
   "metadata": {},
   "outputs": [
    {
     "data": {
      "text/html": [
       "<div>\n",
       "<style scoped>\n",
       "    .dataframe tbody tr th:only-of-type {\n",
       "        vertical-align: middle;\n",
       "    }\n",
       "\n",
       "    .dataframe tbody tr th {\n",
       "        vertical-align: top;\n",
       "    }\n",
       "\n",
       "    .dataframe thead th {\n",
       "        text-align: right;\n",
       "    }\n",
       "</style>\n",
       "<table border=\"1\" class=\"dataframe\">\n",
       "  <thead>\n",
       "    <tr style=\"text-align: right;\">\n",
       "      <th></th>\n",
       "      <th>longitude</th>\n",
       "      <th>latitude</th>\n",
       "      <th>housing_median_age</th>\n",
       "      <th>total_rooms</th>\n",
       "      <th>total_bedrooms</th>\n",
       "      <th>population</th>\n",
       "      <th>households</th>\n",
       "      <th>median_income</th>\n",
       "      <th>median_house_value</th>\n",
       "      <th>ocean_proximity</th>\n",
       "    </tr>\n",
       "  </thead>\n",
       "  <tbody>\n",
       "    <tr>\n",
       "      <th>15910</th>\n",
       "      <td>-122.42</td>\n",
       "      <td>37.74</td>\n",
       "      <td>52.0</td>\n",
       "      <td>1271.0</td>\n",
       "      <td>353.0</td>\n",
       "      <td>1076.0</td>\n",
       "      <td>324.0</td>\n",
       "      <td>2.9911</td>\n",
       "      <td>263900.0</td>\n",
       "      <td>NEAR BAY</td>\n",
       "    </tr>\n",
       "    <tr>\n",
       "      <th>2855</th>\n",
       "      <td>-118.92</td>\n",
       "      <td>35.38</td>\n",
       "      <td>33.0</td>\n",
       "      <td>3122.0</td>\n",
       "      <td>579.0</td>\n",
       "      <td>1733.0</td>\n",
       "      <td>545.0</td>\n",
       "      <td>3.8307</td>\n",
       "      <td>70600.0</td>\n",
       "      <td>INLAND</td>\n",
       "    </tr>\n",
       "    <tr>\n",
       "      <th>17407</th>\n",
       "      <td>-120.45</td>\n",
       "      <td>34.94</td>\n",
       "      <td>24.0</td>\n",
       "      <td>1702.0</td>\n",
       "      <td>447.0</td>\n",
       "      <td>1240.0</td>\n",
       "      <td>417.0</td>\n",
       "      <td>2.4091</td>\n",
       "      <td>115500.0</td>\n",
       "      <td>&lt;1H OCEAN</td>\n",
       "    </tr>\n",
       "    <tr>\n",
       "      <th>3074</th>\n",
       "      <td>-119.24</td>\n",
       "      <td>35.77</td>\n",
       "      <td>28.0</td>\n",
       "      <td>1737.0</td>\n",
       "      <td>521.0</td>\n",
       "      <td>1764.0</td>\n",
       "      <td>514.0</td>\n",
       "      <td>1.7813</td>\n",
       "      <td>67800.0</td>\n",
       "      <td>INLAND</td>\n",
       "    </tr>\n",
       "    <tr>\n",
       "      <th>13216</th>\n",
       "      <td>-117.73</td>\n",
       "      <td>34.01</td>\n",
       "      <td>36.0</td>\n",
       "      <td>2340.0</td>\n",
       "      <td>392.0</td>\n",
       "      <td>1213.0</td>\n",
       "      <td>388.0</td>\n",
       "      <td>4.1250</td>\n",
       "      <td>213000.0</td>\n",
       "      <td>INLAND</td>\n",
       "    </tr>\n",
       "  </tbody>\n",
       "</table>\n",
       "</div>"
      ],
      "text/plain": [
       "       longitude  latitude  housing_median_age  total_rooms  total_bedrooms  \\\n",
       "15910    -122.42     37.74                52.0       1271.0           353.0   \n",
       "2855     -118.92     35.38                33.0       3122.0           579.0   \n",
       "17407    -120.45     34.94                24.0       1702.0           447.0   \n",
       "3074     -119.24     35.77                28.0       1737.0           521.0   \n",
       "13216    -117.73     34.01                36.0       2340.0           392.0   \n",
       "\n",
       "       population  households  median_income  median_house_value  \\\n",
       "15910      1076.0       324.0         2.9911            263900.0   \n",
       "2855       1733.0       545.0         3.8307             70600.0   \n",
       "17407      1240.0       417.0         2.4091            115500.0   \n",
       "3074       1764.0       514.0         1.7813             67800.0   \n",
       "13216      1213.0       388.0         4.1250            213000.0   \n",
       "\n",
       "      ocean_proximity  \n",
       "15910        NEAR BAY  \n",
       "2855           INLAND  \n",
       "17407       <1H OCEAN  \n",
       "3074           INLAND  \n",
       "13216          INLAND  "
      ]
     },
     "execution_count": 133,
     "metadata": {},
     "output_type": "execute_result"
    }
   ],
   "source": [
    "random_subset.head()"
   ]
  },
  {
   "cell_type": "markdown",
   "metadata": {},
   "source": [
    "##### Randomly select 30% values of 'total_rows' column and place 0 at their position"
   ]
  },
  {
   "cell_type": "code",
   "execution_count": 134,
   "metadata": {},
   "outputs": [],
   "source": [
    "import random\n",
    "ix = [(row, col) for row in range(random_subset.shape[0]) for col in range(random_subset.shape[1])]\n",
    "for row, col in random.sample(ix, int(round(.3*len(ix)))):\n",
    "    if col == 3:\n",
    "        random_subset.iat[row, col] = 0"
   ]
  },
  {
   "cell_type": "code",
   "execution_count": 135,
   "metadata": {},
   "outputs": [
    {
     "data": {
      "text/html": [
       "<div>\n",
       "<style scoped>\n",
       "    .dataframe tbody tr th:only-of-type {\n",
       "        vertical-align: middle;\n",
       "    }\n",
       "\n",
       "    .dataframe tbody tr th {\n",
       "        vertical-align: top;\n",
       "    }\n",
       "\n",
       "    .dataframe thead th {\n",
       "        text-align: right;\n",
       "    }\n",
       "</style>\n",
       "<table border=\"1\" class=\"dataframe\">\n",
       "  <thead>\n",
       "    <tr style=\"text-align: right;\">\n",
       "      <th></th>\n",
       "      <th>longitude</th>\n",
       "      <th>latitude</th>\n",
       "      <th>housing_median_age</th>\n",
       "      <th>total_rooms</th>\n",
       "      <th>total_bedrooms</th>\n",
       "      <th>population</th>\n",
       "      <th>households</th>\n",
       "      <th>median_income</th>\n",
       "      <th>median_house_value</th>\n",
       "      <th>ocean_proximity</th>\n",
       "    </tr>\n",
       "  </thead>\n",
       "  <tbody>\n",
       "    <tr>\n",
       "      <th>17449</th>\n",
       "      <td>-120.46</td>\n",
       "      <td>34.74</td>\n",
       "      <td>15.0</td>\n",
       "      <td>2185.0</td>\n",
       "      <td>386.0</td>\n",
       "      <td>827.0</td>\n",
       "      <td>336.0</td>\n",
       "      <td>5.3765</td>\n",
       "      <td>223100.0</td>\n",
       "      <td>NEAR OCEAN</td>\n",
       "    </tr>\n",
       "    <tr>\n",
       "      <th>20196</th>\n",
       "      <td>-119.21</td>\n",
       "      <td>34.26</td>\n",
       "      <td>23.0</td>\n",
       "      <td>2887.0</td>\n",
       "      <td>540.0</td>\n",
       "      <td>1508.0</td>\n",
       "      <td>518.0</td>\n",
       "      <td>3.3452</td>\n",
       "      <td>217600.0</td>\n",
       "      <td>NEAR OCEAN</td>\n",
       "    </tr>\n",
       "    <tr>\n",
       "      <th>6810</th>\n",
       "      <td>-118.10</td>\n",
       "      <td>34.10</td>\n",
       "      <td>34.0</td>\n",
       "      <td>0.0</td>\n",
       "      <td>645.0</td>\n",
       "      <td>1628.0</td>\n",
       "      <td>617.0</td>\n",
       "      <td>2.3400</td>\n",
       "      <td>210900.0</td>\n",
       "      <td>&lt;1H OCEAN</td>\n",
       "    </tr>\n",
       "    <tr>\n",
       "      <th>4256</th>\n",
       "      <td>-118.35</td>\n",
       "      <td>34.10</td>\n",
       "      <td>18.0</td>\n",
       "      <td>0.0</td>\n",
       "      <td>1301.0</td>\n",
       "      <td>2103.0</td>\n",
       "      <td>1116.0</td>\n",
       "      <td>2.3250</td>\n",
       "      <td>250000.0</td>\n",
       "      <td>&lt;1H OCEAN</td>\n",
       "    </tr>\n",
       "    <tr>\n",
       "      <th>16116</th>\n",
       "      <td>-122.50</td>\n",
       "      <td>37.74</td>\n",
       "      <td>44.0</td>\n",
       "      <td>2082.0</td>\n",
       "      <td>470.0</td>\n",
       "      <td>1154.0</td>\n",
       "      <td>403.0</td>\n",
       "      <td>4.3611</td>\n",
       "      <td>268100.0</td>\n",
       "      <td>NEAR OCEAN</td>\n",
       "    </tr>\n",
       "  </tbody>\n",
       "</table>\n",
       "</div>"
      ],
      "text/plain": [
       "       longitude  latitude  housing_median_age  total_rooms  total_bedrooms  \\\n",
       "17449    -120.46     34.74                15.0       2185.0           386.0   \n",
       "20196    -119.21     34.26                23.0       2887.0           540.0   \n",
       "6810     -118.10     34.10                34.0          0.0           645.0   \n",
       "4256     -118.35     34.10                18.0          0.0          1301.0   \n",
       "16116    -122.50     37.74                44.0       2082.0           470.0   \n",
       "\n",
       "       population  households  median_income  median_house_value  \\\n",
       "17449       827.0       336.0         5.3765            223100.0   \n",
       "20196      1508.0       518.0         3.3452            217600.0   \n",
       "6810       1628.0       617.0         2.3400            210900.0   \n",
       "4256       2103.0      1116.0         2.3250            250000.0   \n",
       "16116      1154.0       403.0         4.3611            268100.0   \n",
       "\n",
       "      ocean_proximity  \n",
       "17449      NEAR OCEAN  \n",
       "20196      NEAR OCEAN  \n",
       "6810        <1H OCEAN  \n",
       "4256        <1H OCEAN  \n",
       "16116      NEAR OCEAN  "
      ]
     },
     "execution_count": 135,
     "metadata": {},
     "output_type": "execute_result"
    }
   ],
   "source": [
    "random_subset.tail()"
   ]
  },
  {
   "cell_type": "markdown",
   "metadata": {},
   "source": [
    "##### Part A"
   ]
  },
  {
   "cell_type": "markdown",
   "metadata": {},
   "source": [
    "##### Drop the patterns (rows) with the missing values"
   ]
  },
  {
   "cell_type": "code",
   "execution_count": 136,
   "metadata": {},
   "outputs": [
    {
     "data": {
      "text/html": [
       "<div>\n",
       "<style scoped>\n",
       "    .dataframe tbody tr th:only-of-type {\n",
       "        vertical-align: middle;\n",
       "    }\n",
       "\n",
       "    .dataframe tbody tr th {\n",
       "        vertical-align: top;\n",
       "    }\n",
       "\n",
       "    .dataframe thead th {\n",
       "        text-align: right;\n",
       "    }\n",
       "</style>\n",
       "<table border=\"1\" class=\"dataframe\">\n",
       "  <thead>\n",
       "    <tr style=\"text-align: right;\">\n",
       "      <th></th>\n",
       "      <th>longitude</th>\n",
       "      <th>latitude</th>\n",
       "      <th>housing_median_age</th>\n",
       "      <th>total_rooms</th>\n",
       "      <th>total_bedrooms</th>\n",
       "      <th>population</th>\n",
       "      <th>households</th>\n",
       "      <th>median_income</th>\n",
       "      <th>median_house_value</th>\n",
       "      <th>ocean_proximity</th>\n",
       "    </tr>\n",
       "  </thead>\n",
       "  <tbody>\n",
       "    <tr>\n",
       "      <th>15910</th>\n",
       "      <td>-122.42</td>\n",
       "      <td>37.74</td>\n",
       "      <td>52.0</td>\n",
       "      <td>0.0</td>\n",
       "      <td>353.0</td>\n",
       "      <td>1076.0</td>\n",
       "      <td>324.0</td>\n",
       "      <td>2.9911</td>\n",
       "      <td>263900.0</td>\n",
       "      <td>NEAR BAY</td>\n",
       "    </tr>\n",
       "    <tr>\n",
       "      <th>2855</th>\n",
       "      <td>-118.92</td>\n",
       "      <td>35.38</td>\n",
       "      <td>33.0</td>\n",
       "      <td>3122.0</td>\n",
       "      <td>579.0</td>\n",
       "      <td>1733.0</td>\n",
       "      <td>545.0</td>\n",
       "      <td>3.8307</td>\n",
       "      <td>70600.0</td>\n",
       "      <td>INLAND</td>\n",
       "    </tr>\n",
       "    <tr>\n",
       "      <th>17407</th>\n",
       "      <td>-120.45</td>\n",
       "      <td>34.94</td>\n",
       "      <td>24.0</td>\n",
       "      <td>1702.0</td>\n",
       "      <td>447.0</td>\n",
       "      <td>1240.0</td>\n",
       "      <td>417.0</td>\n",
       "      <td>2.4091</td>\n",
       "      <td>115500.0</td>\n",
       "      <td>&lt;1H OCEAN</td>\n",
       "    </tr>\n",
       "    <tr>\n",
       "      <th>3074</th>\n",
       "      <td>-119.24</td>\n",
       "      <td>35.77</td>\n",
       "      <td>28.0</td>\n",
       "      <td>1737.0</td>\n",
       "      <td>521.0</td>\n",
       "      <td>1764.0</td>\n",
       "      <td>514.0</td>\n",
       "      <td>1.7813</td>\n",
       "      <td>67800.0</td>\n",
       "      <td>INLAND</td>\n",
       "    </tr>\n",
       "    <tr>\n",
       "      <th>13216</th>\n",
       "      <td>-117.73</td>\n",
       "      <td>34.01</td>\n",
       "      <td>36.0</td>\n",
       "      <td>2340.0</td>\n",
       "      <td>392.0</td>\n",
       "      <td>1213.0</td>\n",
       "      <td>388.0</td>\n",
       "      <td>4.1250</td>\n",
       "      <td>213000.0</td>\n",
       "      <td>INLAND</td>\n",
       "    </tr>\n",
       "  </tbody>\n",
       "</table>\n",
       "</div>"
      ],
      "text/plain": [
       "       longitude  latitude  housing_median_age  total_rooms  total_bedrooms  \\\n",
       "15910    -122.42     37.74                52.0          0.0           353.0   \n",
       "2855     -118.92     35.38                33.0       3122.0           579.0   \n",
       "17407    -120.45     34.94                24.0       1702.0           447.0   \n",
       "3074     -119.24     35.77                28.0       1737.0           521.0   \n",
       "13216    -117.73     34.01                36.0       2340.0           392.0   \n",
       "\n",
       "       population  households  median_income  median_house_value  \\\n",
       "15910      1076.0       324.0         2.9911            263900.0   \n",
       "2855       1733.0       545.0         3.8307             70600.0   \n",
       "17407      1240.0       417.0         2.4091            115500.0   \n",
       "3074       1764.0       514.0         1.7813             67800.0   \n",
       "13216      1213.0       388.0         4.1250            213000.0   \n",
       "\n",
       "      ocean_proximity  \n",
       "15910        NEAR BAY  \n",
       "2855           INLAND  \n",
       "17407       <1H OCEAN  \n",
       "3074           INLAND  \n",
       "13216          INLAND  "
      ]
     },
     "execution_count": 136,
     "metadata": {},
     "output_type": "execute_result"
    }
   ],
   "source": [
    "random_subset.dropna().head()"
   ]
  },
  {
   "cell_type": "markdown",
   "metadata": {},
   "source": [
    "##### Find the most correlated featture to the feature with missing values and use regression to fill in the missing values"
   ]
  },
  {
   "cell_type": "code",
   "execution_count": 137,
   "metadata": {},
   "outputs": [],
   "source": [
    "random_subset = random_subset.drop(columns = ['ocean_proximity'])"
   ]
  },
  {
   "cell_type": "code",
   "execution_count": 143,
   "metadata": {},
   "outputs": [],
   "source": [
    "random_subset = random_subset.dropna()"
   ]
  },
  {
   "cell_type": "code",
   "execution_count": 144,
   "metadata": {},
   "outputs": [],
   "source": [
    "y = random_subset.total_bedrooms"
   ]
  },
  {
   "cell_type": "code",
   "execution_count": 147,
   "metadata": {},
   "outputs": [],
   "source": [
    "X = random_subset.drop(columns = ['total_bedrooms'])"
   ]
  },
  {
   "cell_type": "code",
   "execution_count": 140,
   "metadata": {},
   "outputs": [],
   "source": [
    "from sklearn.neighbors import KNeighborsRegressor\n",
    "clf =  KNeighborsRegressor(n_neighbors=10)"
   ]
  },
  {
   "cell_type": "code",
   "execution_count": 148,
   "metadata": {},
   "outputs": [
    {
     "data": {
      "text/plain": [
       "KNeighborsRegressor(algorithm='auto', leaf_size=30, metric='minkowski',\n",
       "                    metric_params=None, n_jobs=None, n_neighbors=10, p=2,\n",
       "                    weights='uniform')"
      ]
     },
     "execution_count": 148,
     "metadata": {},
     "output_type": "execute_result"
    }
   ],
   "source": [
    "clf.fit(X,y)"
   ]
  },
  {
   "cell_type": "code",
   "execution_count": null,
   "metadata": {},
   "outputs": [],
   "source": [
    "pred = clf.predict(random_subset.drop(columns = ['total_bedrooms']))"
   ]
  },
  {
   "cell_type": "code",
   "execution_count": 151,
   "metadata": {},
   "outputs": [
    {
     "data": {
      "text/plain": [
       "array([450.4, 365.4, 545.3, 362.7, 477.3, 498.6, 519.1, 588.6, 537.2,\n",
       "       646.7, 514.7, 365.4, 574.8, 417.6, 557.8, 533.2, 468.1, 688.7,\n",
       "       418.3, 362.2, 588.6, 431.8, 574.8, 382.7, 374.8, 452.9, 431.8,\n",
       "       533.2, 369. , 661. , 369. , 798.7, 460.3, 351.4, 519.1, 557.9,\n",
       "       843.2, 431.8, 619.7, 430.1, 406.8, 779.5, 505.6, 409.3, 506.8,\n",
       "       557.5, 547.8, 557.7, 548. , 514.6, 431.8, 543.9, 405.7, 543.5,\n",
       "       400.8, 443.9, 549.6, 440.9, 477.3, 431.8, 516.3, 423.4, 338.4,\n",
       "       533.2, 655.4, 362.2, 298.5, 362.7, 443.5, 600.9, 499.9, 298.5,\n",
       "       534.5, 395.3, 453.1, 431.8, 355.3, 382.7, 481.5, 654.8, 409.3,\n",
       "       392.5, 365.4, 527.5, 369. , 351.4, 628.7, 481.5, 460.3, 514.6,\n",
       "       506.8, 440.9, 365.3, 383.4, 676.1, 490.8, 384.6, 552.2, 474. ,\n",
       "       412.4, 417.6, 368.9, 453.1, 259.5, 619.7, 412.4, 608.3, 608.3,\n",
       "       453.7, 628.5, 452.9, 466.3, 557.7, 556. , 492.2, 481.5, 543.9,\n",
       "       450.4, 533.2, 515.5, 448.4, 600.9, 450.4, 306.5, 485.9, 338.4,\n",
       "       537.2, 514.6, 608.3, 608.3, 365.3, 547.8, 463.5, 514.6, 365.3,\n",
       "       608.3, 597.6, 494.5, 338.4, 549.6, 431.8, 369. , 409.3, 408.9,\n",
       "       328.1, 494.5, 557.7, 369. , 499.9, 297.7, 514.6, 514.6, 608.3,\n",
       "       406.8, 549.6, 820.7, 609.5, 533.2, 519.1, 365.4, 382.7, 490.7,\n",
       "       694.5, 779.5, 453.7, 481.5, 466.2, 431.8, 519.1, 536.1, 619.7,\n",
       "       468.8, 399.4, 418.3, 440.9, 460.1, 549.4, 552.9, 383.4, 514.6,\n",
       "       552.1, 624. , 534.5, 453.1, 447.3, 466.3, 660.7, 327.4, 407.2,\n",
       "       485.9, 431.8, 519.1, 596.2, 374.8, 417.6, 411.6, 608.2, 453.1])"
      ]
     },
     "execution_count": 151,
     "metadata": {},
     "output_type": "execute_result"
    }
   ],
   "source": [
    "pred"
   ]
  },
  {
   "cell_type": "markdown",
   "metadata": {},
   "source": [
    "##### Fill missing values with mean column values"
   ]
  },
  {
   "cell_type": "code",
   "execution_count": 99,
   "metadata": {},
   "outputs": [],
   "source": [
    "random_subset.fillna(random_subset.mean(), inplace=True)"
   ]
  },
  {
   "cell_type": "code",
   "execution_count": 100,
   "metadata": {},
   "outputs": [
    {
     "data": {
      "text/html": [
       "<div>\n",
       "<style scoped>\n",
       "    .dataframe tbody tr th:only-of-type {\n",
       "        vertical-align: middle;\n",
       "    }\n",
       "\n",
       "    .dataframe tbody tr th {\n",
       "        vertical-align: top;\n",
       "    }\n",
       "\n",
       "    .dataframe thead th {\n",
       "        text-align: right;\n",
       "    }\n",
       "</style>\n",
       "<table border=\"1\" class=\"dataframe\">\n",
       "  <thead>\n",
       "    <tr style=\"text-align: right;\">\n",
       "      <th></th>\n",
       "      <th>longitude</th>\n",
       "      <th>latitude</th>\n",
       "      <th>housing_median_age</th>\n",
       "      <th>total_rooms</th>\n",
       "      <th>total_bedrooms</th>\n",
       "      <th>population</th>\n",
       "      <th>households</th>\n",
       "      <th>median_income</th>\n",
       "      <th>median_house_value</th>\n",
       "      <th>ocean_proximity</th>\n",
       "    </tr>\n",
       "  </thead>\n",
       "  <tbody>\n",
       "    <tr>\n",
       "      <th>19924</th>\n",
       "      <td>-119.33</td>\n",
       "      <td>36.32</td>\n",
       "      <td>20.0</td>\n",
       "      <td>2025.0</td>\n",
       "      <td>328.0</td>\n",
       "      <td>1039.0</td>\n",
       "      <td>346.0</td>\n",
       "      <td>3.5313</td>\n",
       "      <td>82800.0</td>\n",
       "      <td>INLAND</td>\n",
       "    </tr>\n",
       "    <tr>\n",
       "      <th>11831</th>\n",
       "      <td>-120.58</td>\n",
       "      <td>39.27</td>\n",
       "      <td>15.0</td>\n",
       "      <td>4126.0</td>\n",
       "      <td>903.0</td>\n",
       "      <td>723.0</td>\n",
       "      <td>266.0</td>\n",
       "      <td>3.0147</td>\n",
       "      <td>118800.0</td>\n",
       "      <td>INLAND</td>\n",
       "    </tr>\n",
       "    <tr>\n",
       "      <th>7273</th>\n",
       "      <td>-118.24</td>\n",
       "      <td>33.99</td>\n",
       "      <td>28.0</td>\n",
       "      <td>312.0</td>\n",
       "      <td>89.0</td>\n",
       "      <td>498.0</td>\n",
       "      <td>87.0</td>\n",
       "      <td>2.4107</td>\n",
       "      <td>96400.0</td>\n",
       "      <td>&lt;1H OCEAN</td>\n",
       "    </tr>\n",
       "    <tr>\n",
       "      <th>7400</th>\n",
       "      <td>-118.24</td>\n",
       "      <td>33.96</td>\n",
       "      <td>34.0</td>\n",
       "      <td>946.0</td>\n",
       "      <td>254.0</td>\n",
       "      <td>1101.0</td>\n",
       "      <td>239.0</td>\n",
       "      <td>1.7396</td>\n",
       "      <td>105900.0</td>\n",
       "      <td>&lt;1H OCEAN</td>\n",
       "    </tr>\n",
       "    <tr>\n",
       "      <th>1414</th>\n",
       "      <td>-122.09</td>\n",
       "      <td>37.95</td>\n",
       "      <td>32.0</td>\n",
       "      <td>1339.0</td>\n",
       "      <td>209.0</td>\n",
       "      <td>601.0</td>\n",
       "      <td>209.0</td>\n",
       "      <td>6.0265</td>\n",
       "      <td>247900.0</td>\n",
       "      <td>NEAR BAY</td>\n",
       "    </tr>\n",
       "  </tbody>\n",
       "</table>\n",
       "</div>"
      ],
      "text/plain": [
       "       longitude  latitude  housing_median_age  total_rooms  total_bedrooms  \\\n",
       "19924    -119.33     36.32                20.0       2025.0           328.0   \n",
       "11831    -120.58     39.27                15.0       4126.0           903.0   \n",
       "7273     -118.24     33.99                28.0        312.0            89.0   \n",
       "7400     -118.24     33.96                34.0        946.0           254.0   \n",
       "1414     -122.09     37.95                32.0       1339.0           209.0   \n",
       "\n",
       "       population  households  median_income  median_house_value  \\\n",
       "19924      1039.0       346.0         3.5313             82800.0   \n",
       "11831       723.0       266.0         3.0147            118800.0   \n",
       "7273        498.0        87.0         2.4107             96400.0   \n",
       "7400       1101.0       239.0         1.7396            105900.0   \n",
       "1414        601.0       209.0         6.0265            247900.0   \n",
       "\n",
       "      ocean_proximity  \n",
       "19924          INLAND  \n",
       "11831          INLAND  \n",
       "7273        <1H OCEAN  \n",
       "7400        <1H OCEAN  \n",
       "1414         NEAR BAY  "
      ]
     },
     "execution_count": 100,
     "metadata": {},
     "output_type": "execute_result"
    }
   ],
   "source": [
    "random_subset.tail()"
   ]
  },
  {
   "cell_type": "markdown",
   "metadata": {},
   "source": [
    "##### Fill in the missing values with the average value of the k nearest patterns"
   ]
  },
  {
   "cell_type": "code",
   "execution_count": 78,
   "metadata": {},
   "outputs": [
    {
     "name": "stderr",
     "output_type": "stream",
     "text": [
      "/Users/rashminagpal/anaconda3/lib/python3.7/site-packages/sklearn/utils/deprecation.py:66: DeprecationWarning: Class Imputer is deprecated; Imputer was deprecated in version 0.20 and will be removed in 0.22. Import impute.SimpleImputer from sklearn instead.\n",
      "  warnings.warn(msg, category=DeprecationWarning)\n"
     ]
    }
   ],
   "source": [
    "from fancyimpute import KNN \n",
    "from sklearn.experimental import enable_iterative_imputer\n",
    "from sklearn.impute import IterativeImputer\n",
    "from sklearn.preprocessing import Imputer\n",
    "\n",
    "imp = Imputer(missing_values=0, strategy=\"mean\", axis=0)\n",
    "random_subset[\"total_rooms\"] = imp.fit_transform(random_subset[[\"total_rooms\"]]).ravel()"
   ]
  },
  {
   "cell_type": "code",
   "execution_count": 87,
   "metadata": {},
   "outputs": [
    {
     "name": "stdout",
     "output_type": "stream",
     "text": [
      "Collecting scikit-learn\n",
      "\u001b[?25l  Downloading https://files.pythonhosted.org/packages/82/d9/69769d4f79f3b719cc1255f9bd2b6928c72f43e6f74084e3c67db86c4d2b/scikit_learn-0.22.1-cp37-cp37m-macosx_10_6_intel.whl (11.0MB)\n",
      "\u001b[K     |████████████████████████████████| 11.0MB 642kB/s eta 0:00:01    |██████████████▋                 | 5.0MB 638kB/s eta 0:00:10     |████████████████                | 5.5MB 639kB/s eta 0:00:09\n",
      "\u001b[?25hRequirement already satisfied, skipping upgrade: scipy>=0.17.0 in /Users/rashminagpal/anaconda3/lib/python3.7/site-packages (from scikit-learn) (1.3.0)\n",
      "Requirement already satisfied, skipping upgrade: numpy>=1.11.0 in /Users/rashminagpal/anaconda3/lib/python3.7/site-packages (from scikit-learn) (1.18.1)\n",
      "Requirement already satisfied, skipping upgrade: joblib>=0.11 in /Users/rashminagpal/anaconda3/lib/python3.7/site-packages (from scikit-learn) (0.13.2)\n",
      "Installing collected packages: scikit-learn\n",
      "  Found existing installation: scikit-learn 0.21.2\n",
      "    Uninstalling scikit-learn-0.21.2:\n",
      "      Successfully uninstalled scikit-learn-0.21.2\n",
      "Successfully installed scikit-learn-0.22.1\n"
     ]
    }
   ],
   "source": [
    "! pip install -U scikit-learn "
   ]
  },
  {
   "cell_type": "code",
   "execution_count": 92,
   "metadata": {},
   "outputs": [
    {
     "ename": "ImportError",
     "evalue": "cannot import name 'KNNImputer' from 'sklearn.impute' (/Users/rashminagpal/anaconda3/lib/python3.7/site-packages/sklearn/impute/__init__.py)",
     "output_type": "error",
     "traceback": [
      "\u001b[0;31m---------------------------------------------------------------------------\u001b[0m",
      "\u001b[0;31mImportError\u001b[0m                               Traceback (most recent call last)",
      "\u001b[0;32m<ipython-input-92-365ba791dd86>\u001b[0m in \u001b[0;36m<module>\u001b[0;34m\u001b[0m\n\u001b[0;32m----> 1\u001b[0;31m \u001b[0;32mfrom\u001b[0m \u001b[0msklearn\u001b[0m\u001b[0;34m.\u001b[0m\u001b[0mimpute\u001b[0m \u001b[0;32mimport\u001b[0m \u001b[0mKNNImputer\u001b[0m\u001b[0;34m\u001b[0m\u001b[0;34m\u001b[0m\u001b[0m\n\u001b[0m\u001b[1;32m      2\u001b[0m \u001b[0mimputer\u001b[0m \u001b[0;34m=\u001b[0m \u001b[0mKNNImputer\u001b[0m\u001b[0;34m(\u001b[0m\u001b[0mn_neighbors\u001b[0m\u001b[0;34m=\u001b[0m\u001b[0;36m2\u001b[0m\u001b[0;34m,\u001b[0m \u001b[0mweights\u001b[0m\u001b[0;34m=\u001b[0m\u001b[0;34m\"uniform\"\u001b[0m\u001b[0;34m)\u001b[0m\u001b[0;34m\u001b[0m\u001b[0;34m\u001b[0m\u001b[0m\n\u001b[1;32m      3\u001b[0m \u001b[0mimputer\u001b[0m\u001b[0;34m.\u001b[0m\u001b[0mfit_transform\u001b[0m\u001b[0;34m(\u001b[0m\u001b[0mrandom_subset\u001b[0m\u001b[0;34m)\u001b[0m\u001b[0;34m\u001b[0m\u001b[0;34m\u001b[0m\u001b[0m\n",
      "\u001b[0;31mImportError\u001b[0m: cannot import name 'KNNImputer' from 'sklearn.impute' (/Users/rashminagpal/anaconda3/lib/python3.7/site-packages/sklearn/impute/__init__.py)"
     ]
    }
   ],
   "source": [
    "from sklearn.impute import KNNImputer\n",
    "imputer = KNNImputer(n_neighbors=2, weights=\"uniform\")\n",
    "imputer.fit_transform(random_subset)"
   ]
  },
  {
   "cell_type": "code",
   "execution_count": 79,
   "metadata": {},
   "outputs": [
    {
     "data": {
      "text/html": [
       "<div>\n",
       "<style scoped>\n",
       "    .dataframe tbody tr th:only-of-type {\n",
       "        vertical-align: middle;\n",
       "    }\n",
       "\n",
       "    .dataframe tbody tr th {\n",
       "        vertical-align: top;\n",
       "    }\n",
       "\n",
       "    .dataframe thead th {\n",
       "        text-align: right;\n",
       "    }\n",
       "</style>\n",
       "<table border=\"1\" class=\"dataframe\">\n",
       "  <thead>\n",
       "    <tr style=\"text-align: right;\">\n",
       "      <th></th>\n",
       "      <th>longitude</th>\n",
       "      <th>latitude</th>\n",
       "      <th>housing_median_age</th>\n",
       "      <th>total_rooms</th>\n",
       "      <th>total_bedrooms</th>\n",
       "      <th>population</th>\n",
       "      <th>households</th>\n",
       "      <th>median_income</th>\n",
       "      <th>median_house_value</th>\n",
       "      <th>ocean_proximity</th>\n",
       "    </tr>\n",
       "  </thead>\n",
       "  <tbody>\n",
       "    <tr>\n",
       "      <th>16901</th>\n",
       "      <td>-122.34</td>\n",
       "      <td>37.58</td>\n",
       "      <td>50.0</td>\n",
       "      <td>2784.000000</td>\n",
       "      <td>743.0</td>\n",
       "      <td>1622.0</td>\n",
       "      <td>698.0</td>\n",
       "      <td>3.8413</td>\n",
       "      <td>372200.0</td>\n",
       "      <td>NEAR OCEAN</td>\n",
       "    </tr>\n",
       "    <tr>\n",
       "      <th>5920</th>\n",
       "      <td>-118.45</td>\n",
       "      <td>34.28</td>\n",
       "      <td>36.0</td>\n",
       "      <td>2602.000000</td>\n",
       "      <td>638.0</td>\n",
       "      <td>2780.0</td>\n",
       "      <td>620.0</td>\n",
       "      <td>2.7155</td>\n",
       "      <td>149800.0</td>\n",
       "      <td>&lt;1H OCEAN</td>\n",
       "    </tr>\n",
       "    <tr>\n",
       "      <th>2774</th>\n",
       "      <td>-115.80</td>\n",
       "      <td>33.26</td>\n",
       "      <td>2.0</td>\n",
       "      <td>96.000000</td>\n",
       "      <td>18.0</td>\n",
       "      <td>30.0</td>\n",
       "      <td>16.0</td>\n",
       "      <td>5.3374</td>\n",
       "      <td>47500.0</td>\n",
       "      <td>INLAND</td>\n",
       "    </tr>\n",
       "    <tr>\n",
       "      <th>9207</th>\n",
       "      <td>-119.85</td>\n",
       "      <td>37.10</td>\n",
       "      <td>8.0</td>\n",
       "      <td>2648.388889</td>\n",
       "      <td>168.0</td>\n",
       "      <td>413.0</td>\n",
       "      <td>146.0</td>\n",
       "      <td>3.3750</td>\n",
       "      <td>80700.0</td>\n",
       "      <td>INLAND</td>\n",
       "    </tr>\n",
       "    <tr>\n",
       "      <th>10764</th>\n",
       "      <td>-117.91</td>\n",
       "      <td>33.63</td>\n",
       "      <td>20.0</td>\n",
       "      <td>2648.388889</td>\n",
       "      <td>1526.0</td>\n",
       "      <td>1427.0</td>\n",
       "      <td>977.0</td>\n",
       "      <td>3.1985</td>\n",
       "      <td>106300.0</td>\n",
       "      <td>&lt;1H OCEAN</td>\n",
       "    </tr>\n",
       "  </tbody>\n",
       "</table>\n",
       "</div>"
      ],
      "text/plain": [
       "       longitude  latitude  housing_median_age  total_rooms  total_bedrooms  \\\n",
       "16901    -122.34     37.58                50.0  2784.000000           743.0   \n",
       "5920     -118.45     34.28                36.0  2602.000000           638.0   \n",
       "2774     -115.80     33.26                 2.0    96.000000            18.0   \n",
       "9207     -119.85     37.10                 8.0  2648.388889           168.0   \n",
       "10764    -117.91     33.63                20.0  2648.388889          1526.0   \n",
       "\n",
       "       population  households  median_income  median_house_value  \\\n",
       "16901      1622.0       698.0         3.8413            372200.0   \n",
       "5920       2780.0       620.0         2.7155            149800.0   \n",
       "2774         30.0        16.0         5.3374             47500.0   \n",
       "9207        413.0       146.0         3.3750             80700.0   \n",
       "10764      1427.0       977.0         3.1985            106300.0   \n",
       "\n",
       "      ocean_proximity  \n",
       "16901      NEAR OCEAN  \n",
       "5920        <1H OCEAN  \n",
       "2774           INLAND  \n",
       "9207           INLAND  \n",
       "10764       <1H OCEAN  "
      ]
     },
     "execution_count": 79,
     "metadata": {},
     "output_type": "execute_result"
    }
   ],
   "source": [
    "random_subset.tail()"
   ]
  },
  {
   "cell_type": "code",
   "execution_count": 94,
   "metadata": {},
   "outputs": [],
   "source": [
    "def knn_impute(target, attributes, k_neighbors, aggregation_method=\"mean\", numeric_distance=\"euclidean\",\n",
    "categorical_distance=\"jaccard\", missing_neighbors_threshold = 0.5):\n",
    "    \n",
    "# Get useful variables\n",
    "    possible_aggregation_method = [\"mean\", \"median\", \"mode\"]\n",
    "    number_observations = len(target)\n",
    "    is_target_numeric = all(isinstance(n, numbers.Number) for n in target)\n",
    "    # Check for possible errors\n",
    "    if number_observations < 3:\n",
    "        print(\"Not enough observations.\")\n",
    "        return None\n",
    "    if attributes.shape[0] != number_observations:\n",
    "        print(\"The number of observations in the attributes variable is not matching the target variable length.\")\n",
    "        return None\n",
    "    if k_neighbors > number_observations or k_neighbors < 1:\n",
    "        print(\"The range of the number of neighbors is incorrect.\")\n",
    "        return None\n",
    "    if aggregation_method not in possible_aggregation_method:\n",
    "        print(\"The aggregation method is incorrect.\")\n",
    "        return None\n",
    "    if not is_target_numeric and aggregation_method != \"mode\":\n",
    "        print(\"The only method allowed for categorical target variable is the mode.\")\n",
    "        return None\n",
    "    # Make sure the data are in the right format\n",
    "    target = pd.DataFrame(target)\n",
    "    attributes = pd.DataFrame(attributes)\n",
    "    # Get the distance matrix and check whether no error was triggered when computing it\n",
    "    distances = distance_matrix(attributes, numeric_distance, categorical_distance)\n",
    "    if distances is None:\n",
    "        return None\n",
    "    # Get the closest points and compute the correct aggregation method\n",
    "    for i, value in enumerate(target.iloc[:, 0]):\n",
    "        if pd.isnull(value):\n",
    "            order = distances.iloc[i,:].values.argsort()[:k_neighbors]\n",
    "            closest_to_target = target.iloc[order, :]\n",
    "            missing_neighbors = [x for x  in closest_to_target.isnull().iloc[:, 0]]\n",
    "    # Compute the right aggregation method if at least more than 50% of the closest neighbors are not missing\n",
    "        if sum(missing_neighbors) >= missing_neighbors_threshold * k_neighbors:\n",
    "            continue\n",
    "        elif aggregation_method == \"mean\":\n",
    "            target.iloc[i] = np.ma.mean(np.ma.masked_array(closest_to_target,np.isnan(closest_to_target)))\n",
    "        elif aggregation_method == \"median\":\n",
    "            target.iloc[i] = np.ma.median(np.ma.masked_array(closest_to_target,np.isnan(closest_to_target)))\n",
    "        else:\n",
    "            target.iloc[i] = stats.mode(closest_to_target, nan_policy='omit')[0][0]\n",
    "    return target"
   ]
  },
  {
   "cell_type": "markdown",
   "metadata": {},
   "source": [
    "#### We will calculate the median for total_bedrooms based  upon categories of ocean_proximity column"
   ]
  },
  {
   "cell_type": "code",
   "execution_count": null,
   "metadata": {},
   "outputs": [],
   "source": [
    "def calc_categorical_median(x):\n",
    "    \"\"\"this function fill the missing values of total_bedrooms based upon categories of ocean_proximity\"\"\"\n",
    "    unique_colums_ocean_proximity=x['ocean_proximity'].unique()\n",
    "    for i in unique_colums_ocean_proximity:\n",
    "        median=x[x['ocean_proximity']==i]['total_bedrooms'].median()\n",
    "        x.loc[x['ocean_proximity']==i,'total_bedrooms'] =  x[x['ocean_proximity']==i]['total_bedrooms'].fillna(median)\n",
    "calc_categorical_median(df)"
   ]
  },
  {
   "cell_type": "markdown",
   "metadata": {},
   "source": [
    "##### Correlation matrix"
   ]
  },
  {
   "cell_type": "code",
   "execution_count": 27,
   "metadata": {},
   "outputs": [
    {
     "data": {
      "image/png": "[encoded data removed]",
      "text/plain": [
       "<Figure size 792x504 with 1 Axes>"
      ]
     },
     "metadata": {
      "needs_background": "light"
     },
     "output_type": "display_data"
    }
   ],
   "source": [
    "\n",
    "plt.figure(figsize=(11,7))\n",
    "sns.heatmap(cbar=False,annot=True,data=random_subset.corr()*100,cmap='coolwarm')\n",
    "plt.title('% Corelation Matrix')\n",
    "plt.show()"
   ]
  },
  {
   "cell_type": "markdown",
   "metadata": {},
   "source": [
    "##### barplot on ocean_proximity categories"
   ]
  },
  {
   "cell_type": "code",
   "execution_count": 28,
   "metadata": {},
   "outputs": [
    {
     "data": {
      "text/plain": [
       "[]"
      ]
     },
     "execution_count": 28,
     "metadata": {},
     "output_type": "execute_result"
    },
    {
     "data": {
      "image/png": "[encoded data removed]",
      "text/plain": [
       "<Figure size 720x432 with 1 Axes>"
      ]
     },
     "metadata": {
      "needs_background": "light"
     },
     "output_type": "display_data"
    }
   ],
   "source": [
    "plt.figure(figsize=(10,6))\n",
    "sns.countplot(data=random_subset,x='ocean_proximity')\n",
    "plt.plot()"
   ]
  },
  {
   "cell_type": "markdown",
   "metadata": {},
   "source": [
    "##### Linear regression with most corelated features"
   ]
  },
  {
   "cell_type": "code",
   "execution_count": 35,
   "metadata": {},
   "outputs": [],
   "source": [
    "x=random_subset.drop('median_house_value',axis=1).values\n",
    "y=random_subset['median_house_value'].values"
   ]
  },
  {
   "cell_type": "code",
   "execution_count": 36,
   "metadata": {},
   "outputs": [],
   "source": [
    "from sklearn.model_selection import train_test_split\n",
    "xtrain,xtest,ytrain,ytest=train_test_split(x,y,test_size=0.3,random_state=0)"
   ]
  },
  {
   "cell_type": "markdown",
   "metadata": {},
   "source": [
    "##### Feature Selection"
   ]
  },
  {
   "cell_type": "code",
   "execution_count": 33,
   "metadata": {},
   "outputs": [],
   "source": [
    "# converting ocean_proximity to dummies\n",
    "random_subset=pd.concat([pd.get_dummies(random_subset['ocean_proximity'],drop_first=True),random_subset],axis=1).drop('ocean_proximity',axis=1)\n",
    "random_subset['income per working population']=random_subset['median_income']/(random_subset['population']-random_subset['households'])\n",
    "random_subset['bed per house']=random_subset['total_bedrooms']/random_subset['total_rooms']\n",
    "random_subset['h/p']=random_subset['households']/random_subset['population']"
   ]
  },
  {
   "cell_type": "markdown",
   "metadata": {},
   "source": [
    "##### Normalising data"
   ]
  },
  {
   "cell_type": "code",
   "execution_count": 37,
   "metadata": {},
   "outputs": [],
   "source": [
    "from sklearn.preprocessing import MinMaxScaler\n",
    "ms=MinMaxScaler()\n",
    "xtrain=ms.fit_transform(xtrain)\n",
    "xtest=ms.transform(xtest)"
   ]
  },
  {
   "cell_type": "code",
   "execution_count": 38,
   "metadata": {},
   "outputs": [],
   "source": [
    "def regresssor_model(x,y,estimator):\n",
    "   \n",
    "    regressor=estimator()\n",
    "    regressor.fit(x,y)\n",
    "    lr_rmse=np.sqrt(mean_squared_error(y,regressor.predict(x)))\n",
    "    cv_regressor=cross_val_score(cv=10,X=x,y=y,estimator=regressor,scoring='r2')\n",
    "    print('The cross validated accuracy  - '+str(100*cv_regressor.mean()))\n",
    "    print('The corss validated variance is - '+str(100*cv_regressor.std()))\n",
    "    return regressor\n",
    "\n",
    "def evaluate(ypred,ytest,regressor):\n",
    "    plt.figure(figsize=(15,8))\n",
    "    plt.xlabel('(ytest) - (ypred)')\n",
    "    plt.ylabel('frequency')\n",
    "    plt.title('residual plot')\n",
    "    plt.hist(ytest-ypred)\n",
    "    print(\"root mean squared error for test data   is \"+str(np.sqrt(mean_squared_error(ytest,ypred))))\n",
    "    plt.show()\n",
    "# plt.show()\n",
    "\n",
    "\n",
    "#polynomial regression with all features\n",
    "def to_poly(degree,xtrain,xtest):\n",
    "    poly=PolynomialFeatures(degree=degree)\n",
    "    X=poly.fit_transform(xtrain)\n",
    "    x=poly.fit_transform(xtest)\n",
    "    return (X,x)"
   ]
  },
  {
   "cell_type": "code",
   "execution_count": 39,
   "metadata": {},
   "outputs": [
    {
     "name": "stdout",
     "output_type": "stream",
     "text": [
      "Linear regression with most co related features\n",
      "The cross validated accuracy  - -100.54795807125004\n",
      "The corss validated variance is - 274.7357312296329\n",
      "root mean squared error for test data   is 98662.18420076197\n"
     ]
    },
    {
     "data": {
      "image/png": "[encoded data removed]",
      "text/plain": [
       "<Figure size 1080x576 with 1 Axes>"
      ]
     },
     "metadata": {
      "needs_background": "light"
     },
     "output_type": "display_data"
    },
    {
     "data": {
      "image/png": "[encoded data removed]",
      "text/plain": [
       "<Figure size 1080x504 with 1 Axes>"
      ]
     },
     "metadata": {
      "needs_background": "light"
     },
     "output_type": "display_data"
    }
   ],
   "source": [
    "print('Linear regression with most co related features')\n",
    "l=regresssor_model(xtrain[:,[11]],ytrain,LinearRegression)\n",
    "evaluate(l.predict(xtest[:,[11]]),ytest,l)\n",
    "plt.figure(figsize=(15,7))\n",
    "plt.scatter(xtrain[:,11],ytrain,c=xtrain[:,11])\n",
    "plt.plot(xtrain[:,11],l.predict(xtrain[:,11:12]),color='red')\n",
    "plt.xlabel('median income')\n",
    "plt.ylabel('house value')\n",
    "plt.show()"
   ]
  },
  {
   "cell_type": "markdown",
   "metadata": {},
   "source": [
    "##### Compute the squared error between the predicted values and the actual values in each of the two cases."
   ]
  },
  {
   "cell_type": "code",
   "execution_count": null,
   "metadata": {},
   "outputs": [],
   "source": [
    "from sklearn.impute import KNNImputer\n",
    "imputer = KNNImputer(n_neighbors=9)\n",
    "output = imputer.fit_transform(random_subset)\n",
    "output = pd.DataFrame(out)\n",
    "output.columns = random_subset.columns\n",
    "pred = output.loc[random_sample.index]"
   ]
  },
  {
   "cell_type": "code",
   "execution_count": 154,
   "metadata": {},
   "outputs": [
    {
     "data": {
      "text/plain": [
       "140.8520804966931"
      ]
     },
     "execution_count": 154,
     "metadata": {},
     "output_type": "execute_result"
    }
   ],
   "source": [
    "mse_k = mean_squared_error(random_sample.total_bedrooms,pred.total_bedrooms)\n",
    "(np.sqrt(mse_k))"
   ]
  },
  {
   "cell_type": "code",
   "execution_count": null,
   "metadata": {},
   "outputs": [],
   "source": [
    "X_train, X_test, Y_train, Y_test = train_test_split(output.drop(columns = ['median_house_value']), output.median_house_value, test_size = 0.2, random_state=5)"
   ]
  },
  {
   "cell_type": "code",
   "execution_count": null,
   "metadata": {},
   "outputs": [],
   "source": [
    "model = LinearRegression()\n",
    "model.fit(X_train, Y_train)"
   ]
  },
  {
   "cell_type": "code",
   "execution_count": null,
   "metadata": {},
   "outputs": [],
   "source": [
    "y_pred = model.predict(X_test)"
   ]
  },
  {
   "cell_type": "code",
   "execution_count": null,
   "metadata": {},
   "outputs": [],
   "source": [
    "mse = mean_squared_error(Y_test,y_pred)"
   ]
  },
  {
   "cell_type": "code",
   "execution_count": null,
   "metadata": {},
   "outputs": [],
   "source": [
    "rmse = (np.sqrt(mse))"
   ]
  }
 ],
 "metadata": {
  "kernelspec": {
   "display_name": "Python 3",
   "language": "python",
   "name": "python3"
  },
  "language_info": {
   "codemirror_mode": {
    "name": "ipython",
    "version": 3
   },
   "file_extension": ".py",
   "mimetype": "text/x-python",
   "name": "python",
   "nbconvert_exporter": "python",
   "pygments_lexer": "ipython3",
   "version": "3.7.3"
  }
 },
 "nbformat": 4,
 "nbformat_minor": 4
}
