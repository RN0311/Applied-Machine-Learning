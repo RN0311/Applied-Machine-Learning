{
 "cells": [
  {
   "cell_type": "markdown",
   "metadata": {},
   "source": [
    "### Part A"
   ]
  },
  {
   "cell_type": "markdown",
   "metadata": {},
   "source": [
    "#### Bias is related with a model failing to fit the training set and variance is related with a model failing to fit the testing set. Here, in Ridge Regression since the validation and training dataset is high and are almost equal so, it implies that the model is facing high bias and to compensate for that, we need to reduce the regularization parameter which is lambda so that the model coefficients change. "
   ]
  },
  {
   "cell_type": "markdown",
   "metadata": {},
   "source": [
    "### Part B"
   ]
  },
  {
   "cell_type": "code",
   "execution_count": 69,
   "metadata": {},
   "outputs": [],
   "source": [
    "import numpy as np\n",
    "import pandas as pd\n",
    "from sklearn.cluster import DBSCAN \n",
    "from sklearn import metrics \n",
    "from sklearn.utils import shuffle\n",
    "from sklearn.datasets.samples_generator import make_blobs \n",
    "from sklearn.preprocessing import StandardScaler ,normalize\n",
    "import matplotlib.pyplot as plt\n",
    "from sklearn import decomposition\n",
    "from sklearn.metrics import accuracy_score\n",
    "from sklearn.metrics import precision_score\n",
    "from sklearn.metrics import classification_report, confusion_matrix\n",
    "import seaborn as sns\n",
    "from sklearn.model_selection import train_test_split\n",
    "from sklearn.metrics import mean_squared_error\n",
    "%matplotlib inline"
   ]
  },
  {
   "cell_type": "code",
   "execution_count": 60,
   "metadata": {},
   "outputs": [],
   "source": [
    "balance_data = pd.read_csv('hw3-1.txt',sep=\" \", header=None)"
   ]
  },
  {
   "cell_type": "code",
   "execution_count": 61,
   "metadata": {},
   "outputs": [
    {
     "data": {
      "text/plain": [
       "Int64Index([0, 1, 2], dtype='int64')"
      ]
     },
     "execution_count": 61,
     "metadata": {},
     "output_type": "execute_result"
    }
   ],
   "source": [
    "balance_data.columns"
   ]
  },
  {
   "cell_type": "code",
   "execution_count": 62,
   "metadata": {},
   "outputs": [
    {
     "data": {
      "text/html": [
       "<div>\n",
       "<style scoped>\n",
       "    .dataframe tbody tr th:only-of-type {\n",
       "        vertical-align: middle;\n",
       "    }\n",
       "\n",
       "    .dataframe tbody tr th {\n",
       "        vertical-align: top;\n",
       "    }\n",
       "\n",
       "    .dataframe thead th {\n",
       "        text-align: right;\n",
       "    }\n",
       "</style>\n",
       "<table border=\"1\" class=\"dataframe\">\n",
       "  <thead>\n",
       "    <tr style=\"text-align: right;\">\n",
       "      <th></th>\n",
       "      <th>0</th>\n",
       "      <th>1</th>\n",
       "      <th>2</th>\n",
       "    </tr>\n",
       "  </thead>\n",
       "  <tbody>\n",
       "    <tr>\n",
       "      <th>0</th>\n",
       "      <td>1</td>\n",
       "      <td>NaN</td>\n",
       "      <td>22201.00000</td>\n",
       "    </tr>\n",
       "    <tr>\n",
       "      <th>1</th>\n",
       "      <td>2</td>\n",
       "      <td>NaN</td>\n",
       "      <td>61953.86774</td>\n",
       "    </tr>\n",
       "    <tr>\n",
       "      <th>2</th>\n",
       "      <td>3</td>\n",
       "      <td>NaN</td>\n",
       "      <td>112283.65770</td>\n",
       "    </tr>\n",
       "    <tr>\n",
       "      <th>3</th>\n",
       "      <td>4</td>\n",
       "      <td>NaN</td>\n",
       "      <td>170528.00000</td>\n",
       "    </tr>\n",
       "    <tr>\n",
       "      <th>4</th>\n",
       "      <td>5</td>\n",
       "      <td>NaN</td>\n",
       "      <td>235066.64610</td>\n",
       "    </tr>\n",
       "  </tbody>\n",
       "</table>\n",
       "</div>"
      ],
      "text/plain": [
       "   0   1             2\n",
       "0  1 NaN   22201.00000\n",
       "1  2 NaN   61953.86774\n",
       "2  3 NaN  112283.65770\n",
       "3  4 NaN  170528.00000\n",
       "4  5 NaN  235066.64610"
      ]
     },
     "execution_count": 62,
     "metadata": {},
     "output_type": "execute_result"
    }
   ],
   "source": [
    "balance_data.head()"
   ]
  },
  {
   "cell_type": "code",
   "execution_count": 39,
   "metadata": {},
   "outputs": [
    {
     "data": {
      "text/plain": [
       "(241, 2)"
      ]
     },
     "execution_count": 39,
     "metadata": {},
     "output_type": "execute_result"
    }
   ],
   "source": [
    "balance_data.shape"
   ]
  },
  {
   "cell_type": "code",
   "execution_count": 95,
   "metadata": {},
   "outputs": [],
   "source": [
    "balance_data = balance_data.drop([1], axis = 1) "
   ]
  },
  {
   "cell_type": "code",
   "execution_count": 64,
   "metadata": {},
   "outputs": [],
   "source": [
    "X = balance_data.drop([1], axis = 1) \n",
    "y = balance_data[2]"
   ]
  },
  {
   "cell_type": "code",
   "execution_count": 65,
   "metadata": {},
   "outputs": [],
   "source": [
    "Xtrain, Xtest, ytrain, ytest = train_test_split(X,y, test_size=0.25, random_state=1)"
   ]
  },
  {
   "cell_type": "code",
   "execution_count": 55,
   "metadata": {},
   "outputs": [
    {
     "data": {
      "text/plain": [
       "(180,)"
      ]
     },
     "execution_count": 55,
     "metadata": {},
     "output_type": "execute_result"
    }
   ],
   "source": [
    "ytrain.shape"
   ]
  },
  {
   "cell_type": "markdown",
   "metadata": {},
   "source": [
    "#### Ridge Regression"
   ]
  },
  {
   "cell_type": "code",
   "execution_count": 66,
   "metadata": {},
   "outputs": [],
   "source": [
    "from sklearn.linear_model import Ridge, RidgeCV, Lasso, LassoCV\n",
    "ridge2 = Ridge(alpha = 4, normalize = True)\n",
    "ridge2.fit(Xtrain, ytrain)             # Fit a ridge regression on the training data\n",
    "pred2 = ridge2.predict(Xtest)  "
   ]
  },
  {
   "cell_type": "code",
   "execution_count": 71,
   "metadata": {},
   "outputs": [
    {
     "name": "stdout",
     "output_type": "stream",
     "text": [
      "0    8575.251705\n",
      "2       0.189428\n",
      "dtype: float64\n",
      "mean_squared_error  32740047875977.99\n"
     ]
    }
   ],
   "source": [
    "print(pd.Series(ridge2.coef_, index = X.columns)) # Print coefficients\n",
    "print(\"mean_squared_error \",mean_squared_error(ytest, pred2)) "
   ]
  },
  {
   "cell_type": "code",
   "execution_count": 76,
   "metadata": {},
   "outputs": [],
   "source": [
    "clf = RidgeCV(alphas=[1e-3]).fit(Xtrain, ytrain)"
   ]
  },
  {
   "cell_type": "code",
   "execution_count": 25,
   "metadata": {},
   "outputs": [],
   "source": [
    "from sklearn.linear_model import RidgeCV"
   ]
  },
  {
   "cell_type": "code",
   "execution_count": 78,
   "metadata": {},
   "outputs": [
    {
     "data": {
      "text/plain": [
       "-1727792.5749523304"
      ]
     },
     "execution_count": 78,
     "metadata": {},
     "output_type": "execute_result"
    }
   ],
   "source": [
    "clf.score(Xtrain, ytrain)"
   ]
  },
  {
   "cell_type": "markdown",
   "metadata": {},
   "source": [
    "#### Lasso "
   ]
  },
  {
   "cell_type": "code",
   "execution_count": 79,
   "metadata": {},
   "outputs": [
    {
     "data": {
      "text/plain": [
       "LassoCV(alphas=None, copy_X=True, cv=10, eps=0.001, fit_intercept=True,\n",
       "        max_iter=100000, n_alphas=100, n_jobs=None, normalize=True,\n",
       "        positive=False, precompute='auto', random_state=None,\n",
       "        selection='cyclic', tol=0.0001, verbose=False)"
      ]
     },
     "execution_count": 79,
     "metadata": {},
     "output_type": "execute_result"
    }
   ],
   "source": [
    "lassocv = LassoCV(alphas = None, cv = 10, max_iter = 100000, normalize = True)\n",
    "lassocv.fit(Xtrain, ytrain)"
   ]
  },
  {
   "cell_type": "code",
   "execution_count": 82,
   "metadata": {},
   "outputs": [
    {
     "data": {
      "text/plain": [
       "56984253.30586882"
      ]
     },
     "execution_count": 82,
     "metadata": {},
     "output_type": "execute_result"
    }
   ],
   "source": [
    "lasso.set_params(alpha=lassocv.alpha_)\n",
    "lasso.fit(Xtrain, ytrain)\n",
    "print(\"mean_squared_error \",mean_squared_error(ytest, lasso.predict(Xtest)))"
   ]
  },
  {
   "cell_type": "code",
   "execution_count": 81,
   "metadata": {},
   "outputs": [],
   "source": [
    "lasso = Lasso(max_iter = 10000, normalize = True)\n",
    "coefs = []"
   ]
  },
  {
   "cell_type": "markdown",
   "metadata": {},
   "source": [
    "#### Linear Regression"
   ]
  },
  {
   "cell_type": "code",
   "execution_count": 83,
   "metadata": {},
   "outputs": [],
   "source": [
    "lm = linear_model.LinearRegression()\n",
    "model = lm.fit(X,y)\n"
   ]
  },
  {
   "cell_type": "code",
   "execution_count": 85,
   "metadata": {},
   "outputs": [
    {
     "name": "stdout",
     "output_type": "stream",
     "text": [
      "[ 2.22010000e+04  6.19538677e+04  1.12283658e+05  1.70528000e+05\n",
      "  2.35066646e+05  3.04755716e+05  3.78720780e+05  4.56259236e+05\n",
      "  5.36787000e+05  6.19806421e+05  7.04885583e+05  7.91644214e+05\n",
      "  8.79743695e+05  9.68879730e+05  1.05877682e+06  1.14918400e+06\n",
      "  1.23987146e+06  1.33062788e+06  1.42125823e+06  1.51158195e+06\n",
      "  1.60143149e+06  1.69065098e+06  1.77909523e+06  1.86662876e+06\n",
      "  1.95312500e+06  2.03846562e+06  2.12253993e+06  2.20524430e+06\n",
      "  2.28648174e+06  2.36616145e+06  2.44419844e+06  2.52051323e+06\n",
      "  2.59503150e+06  2.66768382e+06  2.73840543e+06  2.80713600e+06\n",
      "  2.87381941e+06  2.93840355e+06  3.00084019e+06  3.06108477e+06\n",
      "  3.11909628e+06  3.17483710e+06  3.22827289e+06  3.27937246e+06\n",
      "  3.32810768e+06  3.37445333e+06  3.41838706e+06  3.45988927e+06\n",
      "  3.49894300e+06  3.53553391e+06  3.56965014e+06  3.60128230e+06\n",
      "  3.63042336e+06  3.65706859e+06  3.68121552e+06  3.70286388e+06\n",
      "  3.72201553e+06  3.73867441e+06  3.75284651e+06  3.76453981e+06\n",
      "  3.77376425e+06  3.78053165e+06  3.78485573e+06  3.78675200e+06\n",
      "  3.78623779e+06  3.78333219e+06  3.77805598e+06  3.77043166e+06\n",
      "  3.76048338e+06  3.74823692e+06  3.73371965e+06  3.71696054e+06\n",
      "  3.69799007e+06  3.67684027e+06  3.65354467e+06  3.62813825e+06\n",
      "  3.60065746e+06  3.57114017e+06  3.53962566e+06  3.50615459e+06\n",
      "  3.47076900e+06  3.43351227e+06  3.39442912e+06  3.35356555e+06\n",
      "  3.31096890e+06  3.26668776e+06  3.22077197e+06  3.17327264e+06\n",
      "  3.12424210e+06  3.07373389e+06  3.02180275e+06  2.96850461e+06\n",
      "  2.91389658e+06  2.85803692e+06  2.80098502e+06  2.74280144e+06\n",
      "  2.68354783e+06  2.62328696e+06  2.56208270e+06  2.50000000e+06\n",
      "  2.43710489e+06  2.37346446e+06  2.30914685e+06  2.24422126e+06\n",
      "  2.17875791e+06  2.11282804e+06  2.04650390e+06  1.97985878e+06\n",
      "  1.91296692e+06  1.84590357e+06  1.77874496e+06  1.71156827e+06\n",
      "  1.64445167e+06  1.57747425e+06  1.51071607e+06  1.44425812e+06\n",
      "  1.37818231e+06  1.31257149e+06  1.24750941e+06  1.18308072e+06\n",
      "  1.11937100e+06  1.05646669e+06  9.94455137e+05  9.33424560e+05\n",
      "  8.73464054e+05  8.14663579e+05  7.57113959e+05  7.00906869e+05\n",
      "  6.46134834e+05  5.92891221e+05  5.41270235e+05  4.91366910e+05\n",
      "  4.43277108e+05  3.97097509e+05  3.52925607e+05  3.10859707e+05\n",
      "  2.70998917e+05  2.33443143e+05  1.98293086e+05  1.65650234e+05\n",
      "  1.35616861e+05  1.08296019e+05  8.37915330e+04  6.22080000e+04\n",
      "  4.36507803e+04  2.82259954e+04  1.60405225e+04  7.20199084e+03\n",
      "  1.81877679e+03 -2.70021622e-10  1.85551906e+03  7.49592743e+03\n",
      "  1.70325493e+04  3.05774359e+04  4.82433609e+04  7.01438175e+04\n",
      "  9.63930137e+04  1.27105869e+05  1.62398011e+05  2.02385770e+05\n",
      "  2.47186179e+05  2.96916966e+05  3.51696552e+05  4.11644051e+05\n",
      "  4.76879259e+05  5.47522659e+05  6.23695412e+05  7.05519355e+05\n",
      "  7.93117000e+05  8.86611527e+05  9.86126785e+05  1.09178728e+06\n",
      "  1.20371820e+06  1.32204536e+06  1.44689525e+06  1.57839500e+06\n",
      "  1.71667241e+06  1.86185590e+06  2.01407455e+06  2.17345807e+06\n",
      "  2.34013682e+06  2.51424178e+06  2.69590457e+06  2.88525743e+06\n",
      "  3.08243325e+06  3.28756553e+06  3.50078837e+06  3.72223653e+06\n",
      "  3.95204536e+06  4.19035082e+06  4.43728950e+06  4.69299859e+06\n",
      "  4.95761588e+06  5.23127978e+06  5.51412929e+06  5.80630400e+06\n",
      "  6.10794412e+06  6.41919044e+06  6.74018434e+06  7.07106781e+06\n",
      "  7.41198341e+06  7.76307428e+06  8.12448416e+06  8.49635736e+06\n",
      "  8.87883879e+06  9.27207390e+06  9.67620876e+06  1.00913900e+07\n",
      "  1.05177647e+07  1.09554808e+07  1.14046865e+07  1.18655308e+07\n",
      "  1.23381630e+07  1.28227333e+07  1.33193921e+07  1.38282906e+07\n",
      "  1.43495805e+07  1.48834141e+07  1.54299441e+07  1.59893239e+07\n",
      "  1.65617074e+07  1.71472490e+07  1.77461037e+07  1.83584270e+07\n",
      "  1.89843750e+07  1.96241043e+07  2.02777720e+07  2.09455359e+07\n",
      "  2.16275541e+07  2.23239853e+07  2.30349889e+07  2.37607247e+07\n",
      "  2.45013529e+07  2.52570345e+07  2.60279309e+07  2.68142039e+07\n",
      "  2.76160159e+07  2.84335300e+07  2.92669095e+07  3.01163185e+07\n",
      "  3.09819214e+07]\n"
     ]
    }
   ],
   "source": [
    "predictions = lm.predict(X)\n",
    "print(predictions)"
   ]
  },
  {
   "cell_type": "code",
   "execution_count": 86,
   "metadata": {},
   "outputs": [
    {
     "data": {
      "text/plain": [
       "1.0"
      ]
     },
     "execution_count": 86,
     "metadata": {},
     "output_type": "execute_result"
    }
   ],
   "source": [
    "lm.score(X,y)"
   ]
  },
  {
   "cell_type": "code",
   "execution_count": 87,
   "metadata": {},
   "outputs": [
    {
     "data": {
      "text/plain": [
       "array([-1.80014415e-12,  1.00000000e+00])"
      ]
     },
     "execution_count": 87,
     "metadata": {},
     "output_type": "execute_result"
    }
   ],
   "source": [
    "lm.coef_"
   ]
  },
  {
   "cell_type": "code",
   "execution_count": 88,
   "metadata": {},
   "outputs": [
    {
     "data": {
      "text/plain": [
       "0.0"
      ]
     },
     "execution_count": 88,
     "metadata": {},
     "output_type": "execute_result"
    }
   ],
   "source": [
    "lm.intercept_"
   ]
  },
  {
   "cell_type": "markdown",
   "metadata": {},
   "source": [
    "#### Part C"
   ]
  },
  {
   "cell_type": "code",
   "execution_count": 107,
   "metadata": {},
   "outputs": [],
   "source": [
    "from sklearn.model_selection import StratifiedShuffleSplit\n",
    "split = StratifiedShuffleSplit(n_splits = 5, test_size=0.25, random_state = 42)"
   ]
  },
  {
   "cell_type": "markdown",
   "metadata": {},
   "source": [
    "##### Using stratified samplig reduces the bias of the sampling from the test dataset, hence we use it."
   ]
  },
  {
   "cell_type": "code",
   "execution_count": 109,
   "metadata": {},
   "outputs": [],
   "source": [
    "balance_data = pd.read_csv('hw3-2.csv')"
   ]
  },
  {
   "cell_type": "code",
   "execution_count": 110,
   "metadata": {},
   "outputs": [
    {
     "data": {
      "text/html": [
       "<div>\n",
       "<style scoped>\n",
       "    .dataframe tbody tr th:only-of-type {\n",
       "        vertical-align: middle;\n",
       "    }\n",
       "\n",
       "    .dataframe tbody tr th {\n",
       "        vertical-align: top;\n",
       "    }\n",
       "\n",
       "    .dataframe thead th {\n",
       "        text-align: right;\n",
       "    }\n",
       "</style>\n",
       "<table border=\"1\" class=\"dataframe\">\n",
       "  <thead>\n",
       "    <tr style=\"text-align: right;\">\n",
       "      <th></th>\n",
       "      <th>x1</th>\n",
       "      <th>x2</th>\n",
       "      <th>y</th>\n",
       "    </tr>\n",
       "  </thead>\n",
       "  <tbody>\n",
       "    <tr>\n",
       "      <th>0</th>\n",
       "      <td>9.420207</td>\n",
       "      <td>-4.350687</td>\n",
       "      <td>1</td>\n",
       "    </tr>\n",
       "    <tr>\n",
       "      <th>1</th>\n",
       "      <td>9.704405</td>\n",
       "      <td>-4.460096</td>\n",
       "      <td>1</td>\n",
       "    </tr>\n",
       "    <tr>\n",
       "      <th>2</th>\n",
       "      <td>9.807543</td>\n",
       "      <td>-4.089379</td>\n",
       "      <td>1</td>\n",
       "    </tr>\n",
       "    <tr>\n",
       "      <th>3</th>\n",
       "      <td>9.277147</td>\n",
       "      <td>-4.034866</td>\n",
       "      <td>1</td>\n",
       "    </tr>\n",
       "    <tr>\n",
       "      <th>4</th>\n",
       "      <td>9.644673</td>\n",
       "      <td>-3.596778</td>\n",
       "      <td>1</td>\n",
       "    </tr>\n",
       "  </tbody>\n",
       "</table>\n",
       "</div>"
      ],
      "text/plain": [
       "         x1        x2  y\n",
       "0  9.420207 -4.350687  1\n",
       "1  9.704405 -4.460096  1\n",
       "2  9.807543 -4.089379  1\n",
       "3  9.277147 -4.034866  1\n",
       "4  9.644673 -3.596778  1"
      ]
     },
     "execution_count": 110,
     "metadata": {},
     "output_type": "execute_result"
    }
   ],
   "source": [
    "balance_data.head()"
   ]
  },
  {
   "cell_type": "code",
   "execution_count": 101,
   "metadata": {},
   "outputs": [
    {
     "data": {
      "text/plain": [
       "5"
      ]
     },
     "execution_count": 101,
     "metadata": {},
     "output_type": "execute_result"
    }
   ],
   "source": [
    "split.get_n_splits(X, y)"
   ]
  },
  {
   "cell_type": "code",
   "execution_count": 105,
   "metadata": {},
   "outputs": [
    {
     "ename": "ValueError",
     "evalue": "The least populated class in y has only 1 member, which is too few. The minimum number of groups for any class cannot be less than 2.",
     "output_type": "error",
     "traceback": [
      "\u001b[0;31m---------------------------------------------------------------------------\u001b[0m",
      "\u001b[0;31mValueError\u001b[0m                                Traceback (most recent call last)",
      "\u001b[0;32m<ipython-input-105-a43eec34ca77>\u001b[0m in \u001b[0;36m<module>\u001b[0;34m\u001b[0m\n\u001b[0;32m----> 1\u001b[0;31m \u001b[0;32mfor\u001b[0m \u001b[0mtrain_index\u001b[0m\u001b[0;34m,\u001b[0m \u001b[0mtest_index\u001b[0m \u001b[0;32min\u001b[0m \u001b[0msplit\u001b[0m\u001b[0;34m.\u001b[0m\u001b[0msplit\u001b[0m\u001b[0;34m(\u001b[0m\u001b[0mX\u001b[0m\u001b[0;34m,\u001b[0m \u001b[0my\u001b[0m\u001b[0;34m)\u001b[0m\u001b[0;34m:\u001b[0m\u001b[0;34m\u001b[0m\u001b[0;34m\u001b[0m\u001b[0m\n\u001b[0m\u001b[1;32m      2\u001b[0m     \u001b[0mprint\u001b[0m\u001b[0;34m(\u001b[0m\u001b[0;34m\"TRAIN:\"\u001b[0m\u001b[0;34m,\u001b[0m \u001b[0mtrain_index\u001b[0m\u001b[0;34m,\u001b[0m \u001b[0;34m\"TEST:\"\u001b[0m\u001b[0;34m,\u001b[0m \u001b[0mtest_index\u001b[0m\u001b[0;34m)\u001b[0m\u001b[0;34m\u001b[0m\u001b[0;34m\u001b[0m\u001b[0m\n\u001b[1;32m      3\u001b[0m     \u001b[0mX_train\u001b[0m\u001b[0;34m,\u001b[0m \u001b[0mX_test\u001b[0m \u001b[0;34m=\u001b[0m \u001b[0mX\u001b[0m\u001b[0;34m[\u001b[0m\u001b[0mtrain_index\u001b[0m\u001b[0;34m]\u001b[0m\u001b[0;34m,\u001b[0m \u001b[0mX\u001b[0m\u001b[0;34m[\u001b[0m\u001b[0mtest_index\u001b[0m\u001b[0;34m]\u001b[0m\u001b[0;34m\u001b[0m\u001b[0;34m\u001b[0m\u001b[0m\n",
      "\u001b[0;32m~/anaconda3/lib/python3.7/site-packages/sklearn/model_selection/_split.py\u001b[0m in \u001b[0;36msplit\u001b[0;34m(self, X, y, groups)\u001b[0m\n\u001b[1;32m   1327\u001b[0m         \"\"\"\n\u001b[1;32m   1328\u001b[0m         \u001b[0mX\u001b[0m\u001b[0;34m,\u001b[0m \u001b[0my\u001b[0m\u001b[0;34m,\u001b[0m \u001b[0mgroups\u001b[0m \u001b[0;34m=\u001b[0m \u001b[0mindexable\u001b[0m\u001b[0;34m(\u001b[0m\u001b[0mX\u001b[0m\u001b[0;34m,\u001b[0m \u001b[0my\u001b[0m\u001b[0;34m,\u001b[0m \u001b[0mgroups\u001b[0m\u001b[0;34m)\u001b[0m\u001b[0;34m\u001b[0m\u001b[0;34m\u001b[0m\u001b[0m\n\u001b[0;32m-> 1329\u001b[0;31m         \u001b[0;32mfor\u001b[0m \u001b[0mtrain\u001b[0m\u001b[0;34m,\u001b[0m \u001b[0mtest\u001b[0m \u001b[0;32min\u001b[0m \u001b[0mself\u001b[0m\u001b[0;34m.\u001b[0m\u001b[0m_iter_indices\u001b[0m\u001b[0;34m(\u001b[0m\u001b[0mX\u001b[0m\u001b[0;34m,\u001b[0m \u001b[0my\u001b[0m\u001b[0;34m,\u001b[0m \u001b[0mgroups\u001b[0m\u001b[0;34m)\u001b[0m\u001b[0;34m:\u001b[0m\u001b[0;34m\u001b[0m\u001b[0;34m\u001b[0m\u001b[0m\n\u001b[0m\u001b[1;32m   1330\u001b[0m             \u001b[0;32myield\u001b[0m \u001b[0mtrain\u001b[0m\u001b[0;34m,\u001b[0m \u001b[0mtest\u001b[0m\u001b[0;34m\u001b[0m\u001b[0;34m\u001b[0m\u001b[0m\n\u001b[1;32m   1331\u001b[0m \u001b[0;34m\u001b[0m\u001b[0m\n",
      "\u001b[0;32m~/anaconda3/lib/python3.7/site-packages/sklearn/model_selection/_split.py\u001b[0m in \u001b[0;36m_iter_indices\u001b[0;34m(self, X, y, groups)\u001b[0m\n\u001b[1;32m   1657\u001b[0m         \u001b[0mclass_counts\u001b[0m \u001b[0;34m=\u001b[0m \u001b[0mnp\u001b[0m\u001b[0;34m.\u001b[0m\u001b[0mbincount\u001b[0m\u001b[0;34m(\u001b[0m\u001b[0my_indices\u001b[0m\u001b[0;34m)\u001b[0m\u001b[0;34m\u001b[0m\u001b[0;34m\u001b[0m\u001b[0m\n\u001b[1;32m   1658\u001b[0m         \u001b[0;32mif\u001b[0m \u001b[0mnp\u001b[0m\u001b[0;34m.\u001b[0m\u001b[0mmin\u001b[0m\u001b[0;34m(\u001b[0m\u001b[0mclass_counts\u001b[0m\u001b[0;34m)\u001b[0m \u001b[0;34m<\u001b[0m \u001b[0;36m2\u001b[0m\u001b[0;34m:\u001b[0m\u001b[0;34m\u001b[0m\u001b[0;34m\u001b[0m\u001b[0m\n\u001b[0;32m-> 1659\u001b[0;31m             raise ValueError(\"The least populated class in y has only 1\"\n\u001b[0m\u001b[1;32m   1660\u001b[0m                              \u001b[0;34m\" member, which is too few. The minimum\"\u001b[0m\u001b[0;34m\u001b[0m\u001b[0;34m\u001b[0m\u001b[0m\n\u001b[1;32m   1661\u001b[0m                              \u001b[0;34m\" number of groups for any class cannot\"\u001b[0m\u001b[0;34m\u001b[0m\u001b[0;34m\u001b[0m\u001b[0m\n",
      "\u001b[0;31mValueError\u001b[0m: The least populated class in y has only 1 member, which is too few. The minimum number of groups for any class cannot be less than 2."
     ]
    }
   ],
   "source": [
    "for train_index, test_index in split.split(X, y):\n",
    "    print(\"TRAIN:\", train_index, \"TEST:\", test_index)\n",
    "    X_train, X_test = X[train_index], X[test_index]"
   ]
  },
  {
   "cell_type": "code",
   "execution_count": 106,
   "metadata": {},
   "outputs": [
    {
     "data": {
      "text/plain": [
       "0      2.220100e+04\n",
       "1      6.195387e+04\n",
       "2      1.122837e+05\n",
       "3      1.705280e+05\n",
       "4      2.350666e+05\n",
       "5      3.047557e+05\n",
       "6      3.787208e+05\n",
       "7      4.562592e+05\n",
       "8      5.367870e+05\n",
       "9      6.198064e+05\n",
       "10     7.048856e+05\n",
       "11     7.916442e+05\n",
       "12     8.797437e+05\n",
       "13     9.688797e+05\n",
       "14     1.058777e+06\n",
       "15     1.149184e+06\n",
       "16     1.239871e+06\n",
       "17     1.330628e+06\n",
       "18     1.421258e+06\n",
       "19     1.511582e+06\n",
       "20     1.601431e+06\n",
       "21     1.690651e+06\n",
       "22     1.779095e+06\n",
       "23     1.866629e+06\n",
       "24     1.953125e+06\n",
       "25     2.038466e+06\n",
       "26     2.122540e+06\n",
       "27     2.205244e+06\n",
       "28     2.286482e+06\n",
       "29     2.366161e+06\n",
       "           ...     \n",
       "211    1.186553e+07\n",
       "212    1.233816e+07\n",
       "213    1.282273e+07\n",
       "214    1.331939e+07\n",
       "215    1.382829e+07\n",
       "216    1.434958e+07\n",
       "217    1.488341e+07\n",
       "218    1.542994e+07\n",
       "219    1.598932e+07\n",
       "220    1.656171e+07\n",
       "221    1.714725e+07\n",
       "222    1.774610e+07\n",
       "223    1.835843e+07\n",
       "224    1.898438e+07\n",
       "225    1.962410e+07\n",
       "226    2.027777e+07\n",
       "227    2.094554e+07\n",
       "228    2.162755e+07\n",
       "229    2.232399e+07\n",
       "230    2.303499e+07\n",
       "231    2.376072e+07\n",
       "232    2.450135e+07\n",
       "233    2.525703e+07\n",
       "234    2.602793e+07\n",
       "235    2.681420e+07\n",
       "236    2.761602e+07\n",
       "237    2.843353e+07\n",
       "238    2.926691e+07\n",
       "239    3.011632e+07\n",
       "240    3.098192e+07\n",
       "Name: 2, Length: 241, dtype: float64"
      ]
     },
     "execution_count": 106,
     "metadata": {},
     "output_type": "execute_result"
    }
   ],
   "source": [
    "y"
   ]
  },
  {
   "cell_type": "code",
   "execution_count": null,
   "metadata": {},
   "outputs": [],
   "source": [
    "#### use dbscan clustering\n",
    "#### when the mean of both the classes is same implies there is other pattern involved.After mean, go to higher order moment. Decision tree and Random Forest, won't perform good grid search to find max depth, sigmoid activation, gaussian activation function. You need an activation function to separate one ring to another. Decision tree generally overfit. Training err is greater than testing err : 'coz of this dataset'."
   ]
  },
  {
   "cell_type": "code",
   "execution_count": null,
   "metadata": {},
   "outputs": [],
   "source": [
    "#### cross validation can be anything/any value.. correlation r , not r2(squared value)"
   ]
  }
 ],
 "metadata": {
  "kernelspec": {
   "display_name": "Python 3",
   "language": "python",
   "name": "python3"
  },
  "language_info": {
   "codemirror_mode": {
    "name": "ipython",
    "version": 3
   },
   "file_extension": ".py",
   "mimetype": "text/x-python",
   "name": "python",
   "nbconvert_exporter": "python",
   "pygments_lexer": "ipython3",
   "version": "3.7.3"
  }
 },
 "nbformat": 4,
 "nbformat_minor": 4
}
